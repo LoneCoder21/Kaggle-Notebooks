{
 "cells": [
  {
   "cell_type": "code",
   "execution_count": 286,
   "metadata": {},
   "outputs": [],
   "source": [
    "%matplotlib inline\n",
    "import pandas as pd\n",
    "import matplotlib.pyplot as plt\n",
    "from sklearn import set_config\n",
    "from feature_engine.datetime import DatetimeFeatures\n",
    "import lightgbm as lgb\n",
    "from lightgbm import LGBMRegressor\n",
    "from sklearn.model_selection import TimeSeriesSplit\n",
    "import seaborn as sns\n",
    "import numpy as np\n",
    "import warnings"
   ]
  },
  {
   "cell_type": "code",
   "execution_count": 287,
   "metadata": {},
   "outputs": [],
   "source": [
    "warnings.filterwarnings('ignore')\n",
    "set_config(transform_output=\"pandas\")"
   ]
  },
  {
   "cell_type": "code",
   "execution_count": 288,
   "metadata": {},
   "outputs": [],
   "source": [
    "target_column = \"num_sold\""
   ]
  },
  {
   "cell_type": "code",
   "execution_count": 289,
   "metadata": {},
   "outputs": [],
   "source": [
    "pd.set_option('display.max_columns', 200)\n",
    "pd.set_option('display.width', 150)"
   ]
  },
  {
   "cell_type": "code",
   "execution_count": 290,
   "metadata": {},
   "outputs": [],
   "source": [
    "def drop_missing(data):\n",
    "    data = data.dropna()\n",
    "    return data"
   ]
  },
  {
   "cell_type": "code",
   "execution_count": 291,
   "metadata": {},
   "outputs": [
    {
     "name": "stdout",
     "output_type": "stream",
     "text": [
      "<class 'pandas.core.frame.DataFrame'>\n",
      "RangeIndex: 319809 entries, 0 to 319808\n",
      "Data columns (total 6 columns):\n",
      " #   Column    Non-Null Count   Dtype  \n",
      "---  ------    --------------   -----  \n",
      " 0   id        319809 non-null  int64  \n",
      " 1   date      319809 non-null  object \n",
      " 2   country   319809 non-null  object \n",
      " 3   store     319809 non-null  object \n",
      " 4   product   319809 non-null  object \n",
      " 5   num_sold  221259 non-null  float64\n",
      "dtypes: float64(1), int64(1), object(4)\n",
      "memory usage: 14.6+ MB\n"
     ]
    }
   ],
   "source": [
    "train = pd.read_csv(\"train.csv\")\n",
    "test = pd.read_csv(\"test.csv\")\n",
    "\n",
    "train = drop_missing(train)\n",
    "\n",
    "data = pd.concat([train, test]).reset_index(drop=True)\n",
    "data.info()"
   ]
  },
  {
   "cell_type": "code",
   "execution_count": 292,
   "metadata": {},
   "outputs": [],
   "source": [
    "data['date'] = pd.to_datetime(data['date'])"
   ]
  },
  {
   "cell_type": "code",
   "execution_count": 293,
   "metadata": {},
   "outputs": [
    {
     "name": "stdout",
     "output_type": "stream",
     "text": [
      "<class 'pandas.core.frame.DataFrame'>\n",
      "RangeIndex: 319809 entries, 0 to 319808\n",
      "Data columns (total 6 columns):\n",
      " #   Column    Non-Null Count   Dtype         \n",
      "---  ------    --------------   -----         \n",
      " 0   id        319809 non-null  int64         \n",
      " 1   date      319809 non-null  datetime64[ns]\n",
      " 2   country   319809 non-null  object        \n",
      " 3   store     319809 non-null  object        \n",
      " 4   product   319809 non-null  object        \n",
      " 5   num_sold  221259 non-null  float64       \n",
      "dtypes: datetime64[ns](1), float64(1), int64(1), object(3)\n",
      "memory usage: 14.6+ MB\n"
     ]
    }
   ],
   "source": [
    "data.info()"
   ]
  },
  {
   "cell_type": "code",
   "execution_count": 294,
   "metadata": {},
   "outputs": [],
   "source": [
    "def date_features(data):\n",
    "    dtf = DatetimeFeatures(features_to_extract = [\"month\", \"year\", \"week\", \"day_of_week\", \"day_of_month\", \"day_of_year\", \"weekend\", \"month_start\", \"month_end\", \"year_start\", \"year_end\", \"quarter_start\", \"quarter_end\", \"quarter\"],drop_original = False)\n",
    "    data = dtf.fit_transform(data)\n",
    "\n",
    "    data[\"days_since_start\"] = (data[\"date\"] - data.iloc[0].date).dt.days\n",
    "\n",
    "    data['te_exp_mean'] = data.groupby(by=['country','store','product'])[target_column].transform(lambda x: x.expanding().mean().shift()).fillna(0)\n",
    "    data['te_exp_median'] = data.groupby(by=['country','store','product'])[target_column].transform(lambda x: x.expanding().median().shift()).fillna(0)\n",
    "    data['te_exp_std'] = data.groupby(by=['country','store','product'])[target_column].transform(lambda x: x.expanding().std().shift()).fillna(1)\n",
    "    data['te_exp_var'] = data.groupby(by=['country','store','product'])[target_column].transform(lambda x: x.expanding().var().shift()).fillna(1)\n",
    "    data['te_exp_min'] = data.groupby(by=['country','store','product'])[target_column].transform(lambda x: x.expanding().min().shift()).fillna(0)\n",
    "    data['te_exp_max'] = data.groupby(by=['country','store','product'])[target_column].transform(lambda x: x.expanding().max().shift()).fillna(0)\n",
    "\n",
    "    data = data.drop('date', axis=1)\n",
    "    return data\n",
    "\n",
    "data = date_features(data)"
   ]
  },
  {
   "cell_type": "code",
   "execution_count": 295,
   "metadata": {},
   "outputs": [
    {
     "name": "stdout",
     "output_type": "stream",
     "text": [
      "<class 'pandas.core.frame.DataFrame'>\n",
      "RangeIndex: 319809 entries, 0 to 319808\n",
      "Data columns (total 26 columns):\n",
      " #   Column              Non-Null Count   Dtype   \n",
      "---  ------              --------------   -----   \n",
      " 0   id                  319809 non-null  int64   \n",
      " 1   country             319809 non-null  category\n",
      " 2   store               319809 non-null  category\n",
      " 3   product             319809 non-null  category\n",
      " 4   num_sold            221259 non-null  float64 \n",
      " 5   date_month          319809 non-null  int32   \n",
      " 6   date_year           319809 non-null  int32   \n",
      " 7   date_week           319809 non-null  int64   \n",
      " 8   date_day_of_week    319809 non-null  int32   \n",
      " 9   date_day_of_month   319809 non-null  int32   \n",
      " 10  date_day_of_year    319809 non-null  int32   \n",
      " 11  date_weekend        319809 non-null  int64   \n",
      " 12  date_month_start    319809 non-null  int64   \n",
      " 13  date_month_end      319809 non-null  int64   \n",
      " 14  date_year_start     319809 non-null  int64   \n",
      " 15  date_year_end       319809 non-null  int64   \n",
      " 16  date_quarter_start  319809 non-null  int64   \n",
      " 17  date_quarter_end    319809 non-null  int64   \n",
      " 18  date_quarter        319809 non-null  int32   \n",
      " 19  days_since_start    319809 non-null  int64   \n",
      " 20  te_exp_mean         319809 non-null  float64 \n",
      " 21  te_exp_median       319809 non-null  float64 \n",
      " 22  te_exp_std          319809 non-null  float64 \n",
      " 23  te_exp_var          319809 non-null  float64 \n",
      " 24  te_exp_min          319809 non-null  float64 \n",
      " 25  te_exp_max          319809 non-null  float64 \n",
      "dtypes: category(3), float64(7), int32(6), int64(10)\n",
      "memory usage: 49.7 MB\n"
     ]
    }
   ],
   "source": [
    "data[\"country\"] = data[\"country\"].astype('category')\n",
    "data[\"store\"] = data[\"store\"].astype('category')\n",
    "data[\"product\"] = data[\"product\"].astype('category')\n",
    "data.info()"
   ]
  },
  {
   "cell_type": "code",
   "execution_count": 296,
   "metadata": {},
   "outputs": [
    {
     "data": {
      "text/html": [
       "<div>\n",
       "<style scoped>\n",
       "    .dataframe tbody tr th:only-of-type {\n",
       "        vertical-align: middle;\n",
       "    }\n",
       "\n",
       "    .dataframe tbody tr th {\n",
       "        vertical-align: top;\n",
       "    }\n",
       "\n",
       "    .dataframe thead th {\n",
       "        text-align: right;\n",
       "    }\n",
       "</style>\n",
       "<table border=\"1\" class=\"dataframe\">\n",
       "  <thead>\n",
       "    <tr style=\"text-align: right;\">\n",
       "      <th></th>\n",
       "      <th>id</th>\n",
       "      <th>country</th>\n",
       "      <th>store</th>\n",
       "      <th>product</th>\n",
       "      <th>num_sold</th>\n",
       "      <th>date_month</th>\n",
       "      <th>date_year</th>\n",
       "      <th>date_week</th>\n",
       "      <th>date_day_of_week</th>\n",
       "      <th>date_day_of_month</th>\n",
       "      <th>date_day_of_year</th>\n",
       "      <th>date_weekend</th>\n",
       "      <th>date_month_start</th>\n",
       "      <th>date_month_end</th>\n",
       "      <th>date_year_start</th>\n",
       "      <th>date_year_end</th>\n",
       "      <th>date_quarter_start</th>\n",
       "      <th>date_quarter_end</th>\n",
       "      <th>date_quarter</th>\n",
       "      <th>days_since_start</th>\n",
       "      <th>te_exp_mean</th>\n",
       "      <th>te_exp_median</th>\n",
       "      <th>te_exp_std</th>\n",
       "      <th>te_exp_var</th>\n",
       "      <th>te_exp_min</th>\n",
       "      <th>te_exp_max</th>\n",
       "    </tr>\n",
       "  </thead>\n",
       "  <tbody>\n",
       "    <tr>\n",
       "      <th>0</th>\n",
       "      <td>1</td>\n",
       "      <td>Canada</td>\n",
       "      <td>Discount Stickers</td>\n",
       "      <td>Kaggle</td>\n",
       "      <td>973.0</td>\n",
       "      <td>1</td>\n",
       "      <td>2010</td>\n",
       "      <td>53</td>\n",
       "      <td>4</td>\n",
       "      <td>1</td>\n",
       "      <td>1</td>\n",
       "      <td>0</td>\n",
       "      <td>1</td>\n",
       "      <td>0</td>\n",
       "      <td>1</td>\n",
       "      <td>0</td>\n",
       "      <td>1</td>\n",
       "      <td>0</td>\n",
       "      <td>1</td>\n",
       "      <td>0</td>\n",
       "      <td>0.0</td>\n",
       "      <td>0.0</td>\n",
       "      <td>1.0</td>\n",
       "      <td>1.0</td>\n",
       "      <td>0.0</td>\n",
       "      <td>0.0</td>\n",
       "    </tr>\n",
       "    <tr>\n",
       "      <th>1</th>\n",
       "      <td>2</td>\n",
       "      <td>Canada</td>\n",
       "      <td>Discount Stickers</td>\n",
       "      <td>Kaggle Tiers</td>\n",
       "      <td>906.0</td>\n",
       "      <td>1</td>\n",
       "      <td>2010</td>\n",
       "      <td>53</td>\n",
       "      <td>4</td>\n",
       "      <td>1</td>\n",
       "      <td>1</td>\n",
       "      <td>0</td>\n",
       "      <td>1</td>\n",
       "      <td>0</td>\n",
       "      <td>1</td>\n",
       "      <td>0</td>\n",
       "      <td>1</td>\n",
       "      <td>0</td>\n",
       "      <td>1</td>\n",
       "      <td>0</td>\n",
       "      <td>0.0</td>\n",
       "      <td>0.0</td>\n",
       "      <td>1.0</td>\n",
       "      <td>1.0</td>\n",
       "      <td>0.0</td>\n",
       "      <td>0.0</td>\n",
       "    </tr>\n",
       "    <tr>\n",
       "      <th>2</th>\n",
       "      <td>3</td>\n",
       "      <td>Canada</td>\n",
       "      <td>Discount Stickers</td>\n",
       "      <td>Kerneler</td>\n",
       "      <td>423.0</td>\n",
       "      <td>1</td>\n",
       "      <td>2010</td>\n",
       "      <td>53</td>\n",
       "      <td>4</td>\n",
       "      <td>1</td>\n",
       "      <td>1</td>\n",
       "      <td>0</td>\n",
       "      <td>1</td>\n",
       "      <td>0</td>\n",
       "      <td>1</td>\n",
       "      <td>0</td>\n",
       "      <td>1</td>\n",
       "      <td>0</td>\n",
       "      <td>1</td>\n",
       "      <td>0</td>\n",
       "      <td>0.0</td>\n",
       "      <td>0.0</td>\n",
       "      <td>1.0</td>\n",
       "      <td>1.0</td>\n",
       "      <td>0.0</td>\n",
       "      <td>0.0</td>\n",
       "    </tr>\n",
       "    <tr>\n",
       "      <th>3</th>\n",
       "      <td>4</td>\n",
       "      <td>Canada</td>\n",
       "      <td>Discount Stickers</td>\n",
       "      <td>Kerneler Dark Mode</td>\n",
       "      <td>491.0</td>\n",
       "      <td>1</td>\n",
       "      <td>2010</td>\n",
       "      <td>53</td>\n",
       "      <td>4</td>\n",
       "      <td>1</td>\n",
       "      <td>1</td>\n",
       "      <td>0</td>\n",
       "      <td>1</td>\n",
       "      <td>0</td>\n",
       "      <td>1</td>\n",
       "      <td>0</td>\n",
       "      <td>1</td>\n",
       "      <td>0</td>\n",
       "      <td>1</td>\n",
       "      <td>0</td>\n",
       "      <td>0.0</td>\n",
       "      <td>0.0</td>\n",
       "      <td>1.0</td>\n",
       "      <td>1.0</td>\n",
       "      <td>0.0</td>\n",
       "      <td>0.0</td>\n",
       "    </tr>\n",
       "    <tr>\n",
       "      <th>4</th>\n",
       "      <td>5</td>\n",
       "      <td>Canada</td>\n",
       "      <td>Stickers for Less</td>\n",
       "      <td>Holographic Goose</td>\n",
       "      <td>300.0</td>\n",
       "      <td>1</td>\n",
       "      <td>2010</td>\n",
       "      <td>53</td>\n",
       "      <td>4</td>\n",
       "      <td>1</td>\n",
       "      <td>1</td>\n",
       "      <td>0</td>\n",
       "      <td>1</td>\n",
       "      <td>0</td>\n",
       "      <td>1</td>\n",
       "      <td>0</td>\n",
       "      <td>1</td>\n",
       "      <td>0</td>\n",
       "      <td>1</td>\n",
       "      <td>0</td>\n",
       "      <td>0.0</td>\n",
       "      <td>0.0</td>\n",
       "      <td>1.0</td>\n",
       "      <td>1.0</td>\n",
       "      <td>0.0</td>\n",
       "      <td>0.0</td>\n",
       "    </tr>\n",
       "  </tbody>\n",
       "</table>\n",
       "</div>"
      ],
      "text/plain": [
       "   id country              store             product  num_sold  date_month  date_year  date_week  date_day_of_week  date_day_of_month  \\\n",
       "0   1  Canada  Discount Stickers              Kaggle     973.0           1       2010         53                 4                  1   \n",
       "1   2  Canada  Discount Stickers        Kaggle Tiers     906.0           1       2010         53                 4                  1   \n",
       "2   3  Canada  Discount Stickers            Kerneler     423.0           1       2010         53                 4                  1   \n",
       "3   4  Canada  Discount Stickers  Kerneler Dark Mode     491.0           1       2010         53                 4                  1   \n",
       "4   5  Canada  Stickers for Less   Holographic Goose     300.0           1       2010         53                 4                  1   \n",
       "\n",
       "   date_day_of_year  date_weekend  date_month_start  date_month_end  date_year_start  date_year_end  date_quarter_start  date_quarter_end  \\\n",
       "0                 1             0                 1               0                1              0                   1                 0   \n",
       "1                 1             0                 1               0                1              0                   1                 0   \n",
       "2                 1             0                 1               0                1              0                   1                 0   \n",
       "3                 1             0                 1               0                1              0                   1                 0   \n",
       "4                 1             0                 1               0                1              0                   1                 0   \n",
       "\n",
       "   date_quarter  days_since_start  te_exp_mean  te_exp_median  te_exp_std  te_exp_var  te_exp_min  te_exp_max  \n",
       "0             1                 0          0.0            0.0         1.0         1.0         0.0         0.0  \n",
       "1             1                 0          0.0            0.0         1.0         1.0         0.0         0.0  \n",
       "2             1                 0          0.0            0.0         1.0         1.0         0.0         0.0  \n",
       "3             1                 0          0.0            0.0         1.0         1.0         0.0         0.0  \n",
       "4             1                 0          0.0            0.0         1.0         1.0         0.0         0.0  "
      ]
     },
     "execution_count": 296,
     "metadata": {},
     "output_type": "execute_result"
    }
   ],
   "source": [
    "data.head()"
   ]
  },
  {
   "cell_type": "code",
   "execution_count": 297,
   "metadata": {},
   "outputs": [],
   "source": [
    "train_data = data[data[target_column].notna()]\n",
    "test_data = data[data[target_column].isna()]\n",
    "test_data = test_data.drop(target_column, axis=1)\n",
    "\n",
    "test_id = test_data[['id']].copy()\n",
    "train_data = train_data.drop('id', axis=1)\n",
    "test_data = test_data.drop('id', axis=1)"
   ]
  },
  {
   "cell_type": "code",
   "execution_count": 298,
   "metadata": {},
   "outputs": [],
   "source": [
    "X = train_data.drop(target_column, axis=1)\n",
    "y = (train_data[target_column])"
   ]
  },
  {
   "cell_type": "code",
   "execution_count": 299,
   "metadata": {},
   "outputs": [],
   "source": [
    "skf = TimeSeriesSplit(n_splits=6)"
   ]
  },
  {
   "cell_type": "code",
   "execution_count": 300,
   "metadata": {},
   "outputs": [
    {
     "name": "stdout",
     "output_type": "stream",
     "text": [
      "Mean MAE score: 83.29809762766979\n"
     ]
    }
   ],
   "source": [
    "params = {\n",
    "          'categorical_feature': 'name:country,store,product',\n",
    "          'objective': 'regression', \n",
    "          'metric':'l1', \n",
    "          'n_jobs':-1,\n",
    "          'seed': 42\n",
    "}\n",
    "\n",
    "scores = []\n",
    "for i, (train_idx, val_idx) in enumerate(skf.split(X, y)):\n",
    "    X_train, X_val = X.iloc[train_idx], X.iloc[val_idx]\n",
    "    y_train, y_val = y.iloc[train_idx], y.iloc[val_idx]\n",
    "    \n",
    "    train_data = lgb.Dataset(X_train, label=y_train)\n",
    "    val_data = lgb.Dataset(X_val, label=y_val)\n",
    "    \n",
    "    model = lgb.train(\n",
    "        params,\n",
    "        train_data,\n",
    "        valid_sets=[val_data],\n",
    "    )\n",
    "\n",
    "    scores.append(model.best_score['valid_0']['l1'])\n",
    "print(\"Mean MAE score:\", np.mean(scores))"
   ]
  },
  {
   "cell_type": "code",
   "execution_count": 301,
   "metadata": {},
   "outputs": [],
   "source": [
    "train_data = lgb.Dataset(X, label=y)\n",
    "\n",
    "model = lgb.train(\n",
    "        params,\n",
    "        train_data\n",
    "    )"
   ]
  },
  {
   "cell_type": "code",
   "execution_count": 302,
   "metadata": {},
   "outputs": [],
   "source": [
    "def getPrediction(estimator, test_id, test_data, target):\n",
    "    y_pred_submission = estimator.predict(test_data)\n",
    "    \n",
    "    test_submission = test_id\n",
    "    test_submission[target] = y_pred_submission\n",
    "\n",
    "    return test_submission"
   ]
  },
  {
   "cell_type": "code",
   "execution_count": 303,
   "metadata": {},
   "outputs": [],
   "source": [
    "test_submission = getPrediction(model, test_id, test_data, target_column)\n",
    "test_submission.to_csv(\"lgbm_gbdt_basic.csv\", index=False)"
   ]
  },
  {
   "cell_type": "code",
   "execution_count": null,
   "metadata": {},
   "outputs": [],
   "source": []
  }
 ],
 "metadata": {
  "kernelspec": {
   "display_name": "Python 3",
   "language": "python",
   "name": "python3"
  },
  "language_info": {
   "codemirror_mode": {
    "name": "ipython",
    "version": 3
   },
   "file_extension": ".py",
   "mimetype": "text/x-python",
   "name": "python",
   "nbconvert_exporter": "python",
   "pygments_lexer": "ipython3",
   "version": "3.12.3"
  }
 },
 "nbformat": 4,
 "nbformat_minor": 2
}
