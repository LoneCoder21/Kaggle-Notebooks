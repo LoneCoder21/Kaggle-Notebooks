{
 "cells": [
  {
   "cell_type": "code",
   "execution_count": 107,
   "metadata": {},
   "outputs": [],
   "source": [
    "%matplotlib inline\n",
    "import pandas as pd\n",
    "import matplotlib.pyplot as plt\n",
    "from sklearn import set_config\n",
    "from feature_engine.datetime import DatetimeFeatures\n",
    "import lightgbm as lgb\n",
    "from lightgbm import LGBMRegressor\n",
    "from sklearn.model_selection import TimeSeriesSplit\n",
    "import seaborn as sns\n",
    "import numpy as np\n",
    "import warnings"
   ]
  },
  {
   "cell_type": "code",
   "execution_count": 108,
   "metadata": {},
   "outputs": [],
   "source": [
    "warnings.filterwarnings('ignore')\n",
    "set_config(transform_output=\"pandas\")"
   ]
  },
  {
   "cell_type": "code",
   "execution_count": 109,
   "metadata": {},
   "outputs": [],
   "source": [
    "target_column = \"num_sold\""
   ]
  },
  {
   "cell_type": "code",
   "execution_count": 110,
   "metadata": {},
   "outputs": [],
   "source": [
    "pd.set_option('display.max_columns', 200)\n",
    "pd.set_option('display.width', 150)"
   ]
  },
  {
   "cell_type": "code",
   "execution_count": 111,
   "metadata": {},
   "outputs": [],
   "source": [
    "def drop_missing(data):\n",
    "    data = data.dropna()\n",
    "    return data"
   ]
  },
  {
   "cell_type": "code",
   "execution_count": 112,
   "metadata": {},
   "outputs": [
    {
     "name": "stdout",
     "output_type": "stream",
     "text": [
      "<class 'pandas.core.frame.DataFrame'>\n",
      "RangeIndex: 319809 entries, 0 to 319808\n",
      "Data columns (total 6 columns):\n",
      " #   Column    Non-Null Count   Dtype  \n",
      "---  ------    --------------   -----  \n",
      " 0   id        319809 non-null  int64  \n",
      " 1   date      319809 non-null  object \n",
      " 2   country   319809 non-null  object \n",
      " 3   store     319809 non-null  object \n",
      " 4   product   319809 non-null  object \n",
      " 5   num_sold  221259 non-null  float64\n",
      "dtypes: float64(1), int64(1), object(4)\n",
      "memory usage: 14.6+ MB\n"
     ]
    }
   ],
   "source": [
    "train = pd.read_csv(\"train.csv\")\n",
    "test = pd.read_csv(\"test.csv\")\n",
    "\n",
    "train = drop_missing(train)\n",
    "\n",
    "data = pd.concat([train, test]).reset_index(drop=True)\n",
    "data.info()"
   ]
  },
  {
   "cell_type": "code",
   "execution_count": 113,
   "metadata": {},
   "outputs": [],
   "source": [
    "data['date'] = pd.to_datetime(data['date'])"
   ]
  },
  {
   "cell_type": "code",
   "execution_count": 114,
   "metadata": {},
   "outputs": [
    {
     "name": "stdout",
     "output_type": "stream",
     "text": [
      "<class 'pandas.core.frame.DataFrame'>\n",
      "RangeIndex: 319809 entries, 0 to 319808\n",
      "Data columns (total 6 columns):\n",
      " #   Column    Non-Null Count   Dtype         \n",
      "---  ------    --------------   -----         \n",
      " 0   id        319809 non-null  int64         \n",
      " 1   date      319809 non-null  datetime64[ns]\n",
      " 2   country   319809 non-null  object        \n",
      " 3   store     319809 non-null  object        \n",
      " 4   product   319809 non-null  object        \n",
      " 5   num_sold  221259 non-null  float64       \n",
      "dtypes: datetime64[ns](1), float64(1), int64(1), object(3)\n",
      "memory usage: 14.6+ MB\n"
     ]
    }
   ],
   "source": [
    "data.info()"
   ]
  },
  {
   "cell_type": "code",
   "execution_count": 115,
   "metadata": {},
   "outputs": [],
   "source": [
    "def date_features(data):\n",
    "    dtf = DatetimeFeatures(features_to_extract = [\"month\", \"year\", \"week\", \"day_of_week\", \"day_of_month\", \"day_of_year\", \"weekend\", \"month_start\", \"month_end\", \"year_start\", \"year_end\", \"quarter_start\", \"quarter_end\", \"quarter\"],drop_original = False)\n",
    "    data = dtf.fit_transform(data)\n",
    "\n",
    "    data[\"days_since_start\"] = (data[\"date\"] - data.iloc[0].date).dt.days\n",
    "    data = data.drop('date', axis=1)\n",
    "    return data\n",
    "\n",
    "data = date_features(data)"
   ]
  },
  {
   "cell_type": "code",
   "execution_count": 116,
   "metadata": {},
   "outputs": [
    {
     "name": "stdout",
     "output_type": "stream",
     "text": [
      "<class 'pandas.core.frame.DataFrame'>\n",
      "RangeIndex: 319809 entries, 0 to 319808\n",
      "Data columns (total 20 columns):\n",
      " #   Column              Non-Null Count   Dtype   \n",
      "---  ------              --------------   -----   \n",
      " 0   id                  319809 non-null  int64   \n",
      " 1   country             319809 non-null  category\n",
      " 2   store               319809 non-null  category\n",
      " 3   product             319809 non-null  category\n",
      " 4   num_sold            221259 non-null  float64 \n",
      " 5   date_month          319809 non-null  int32   \n",
      " 6   date_year           319809 non-null  int32   \n",
      " 7   date_week           319809 non-null  int64   \n",
      " 8   date_day_of_week    319809 non-null  int32   \n",
      " 9   date_day_of_month   319809 non-null  int32   \n",
      " 10  date_day_of_year    319809 non-null  int32   \n",
      " 11  date_weekend        319809 non-null  int64   \n",
      " 12  date_month_start    319809 non-null  int64   \n",
      " 13  date_month_end      319809 non-null  int64   \n",
      " 14  date_year_start     319809 non-null  int64   \n",
      " 15  date_year_end       319809 non-null  int64   \n",
      " 16  date_quarter_start  319809 non-null  int64   \n",
      " 17  date_quarter_end    319809 non-null  int64   \n",
      " 18  date_quarter        319809 non-null  int32   \n",
      " 19  days_since_start    319809 non-null  int64   \n",
      "dtypes: category(3), float64(1), int32(6), int64(10)\n",
      "memory usage: 35.1 MB\n"
     ]
    }
   ],
   "source": [
    "data[\"country\"] = data[\"country\"].astype('category')\n",
    "data[\"store\"] = data[\"store\"].astype('category')\n",
    "data[\"product\"] = data[\"product\"].astype('category')\n",
    "data.info()"
   ]
  },
  {
   "cell_type": "code",
   "execution_count": 117,
   "metadata": {},
   "outputs": [],
   "source": [
    "train_data = data[data[target_column].notna()]\n",
    "test_data = data[data[target_column].isna()]\n",
    "test_data = test_data.drop(target_column, axis=1)\n",
    "\n",
    "test_id = test_data[['id']].copy()\n",
    "train_data = train_data.drop('id', axis=1)\n",
    "test_data = test_data.drop('id', axis=1)"
   ]
  },
  {
   "cell_type": "code",
   "execution_count": 118,
   "metadata": {},
   "outputs": [],
   "source": [
    "X = train_data.drop(target_column, axis=1)\n",
    "y = (train_data[target_column])"
   ]
  },
  {
   "cell_type": "code",
   "execution_count": null,
   "metadata": {},
   "outputs": [],
   "source": [
    "skf = TimeSeriesSplit(n_splits=6)"
   ]
  },
  {
   "cell_type": "code",
   "execution_count": 137,
   "metadata": {},
   "outputs": [
    {
     "name": "stdout",
     "output_type": "stream",
     "text": [
      "Mean MAE score: 79.3284318179176\n"
     ]
    }
   ],
   "source": [
    "params = {\n",
    "          'categorical_feature': 'name:country,store,product',\n",
    "          'objective': 'regression', \n",
    "          'metric':'l1', \n",
    "          'n_jobs':-1,\n",
    "          'seed': 42\n",
    "}\n",
    "\n",
    "scores = []\n",
    "for i, (train_idx, val_idx) in enumerate(skf.split(X, y)):\n",
    "    X_train, X_val = X.iloc[train_idx], X.iloc[val_idx]\n",
    "    y_train, y_val = y.iloc[train_idx], y.iloc[val_idx]\n",
    "    \n",
    "    train_data = lgb.Dataset(X_train, label=y_train)\n",
    "    val_data = lgb.Dataset(X_val, label=y_val)\n",
    "    \n",
    "    model = lgb.train(\n",
    "        params,\n",
    "        train_data,\n",
    "        valid_sets=[val_data],\n",
    "    )\n",
    "\n",
    "    scores.append(model.best_score['valid_0']['l1'])\n",
    "print(\"Mean MAE score:\", np.mean(scores))"
   ]
  },
  {
   "cell_type": "code",
   "execution_count": 138,
   "metadata": {},
   "outputs": [],
   "source": [
    "train_data = lgb.Dataset(X, label=y)\n",
    "\n",
    "model = lgb.train(\n",
    "        params,\n",
    "        train_data\n",
    "    )"
   ]
  },
  {
   "cell_type": "code",
   "execution_count": 139,
   "metadata": {},
   "outputs": [],
   "source": [
    "def getPrediction(estimator, test_id, test_data, target):\n",
    "    y_pred_submission = estimator.predict(test_data)\n",
    "    \n",
    "    test_submission = test_id\n",
    "    test_submission[target] = y_pred_submission\n",
    "\n",
    "    return test_submission"
   ]
  },
  {
   "cell_type": "code",
   "execution_count": 140,
   "metadata": {},
   "outputs": [],
   "source": [
    "test_submission = getPrediction(model, test_id, test_data, target_column)\n",
    "test_submission.to_csv(\"lgbm_gbdt_basic.csv\", index=False)"
   ]
  },
  {
   "cell_type": "code",
   "execution_count": null,
   "metadata": {},
   "outputs": [],
   "source": []
  }
 ],
 "metadata": {
  "kernelspec": {
   "display_name": "Python 3",
   "language": "python",
   "name": "python3"
  },
  "language_info": {
   "codemirror_mode": {
    "name": "ipython",
    "version": 3
   },
   "file_extension": ".py",
   "mimetype": "text/x-python",
   "name": "python",
   "nbconvert_exporter": "python",
   "pygments_lexer": "ipython3",
   "version": "3.12.3"
  }
 },
 "nbformat": 4,
 "nbformat_minor": 2
}
